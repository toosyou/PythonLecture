{
 "cells": [
  {
   "cell_type": "markdown",
   "id": "22e815dd-7319-4b89-86a0-fc02a07856b4",
   "metadata": {},
   "source": [
    "# Python Exercises"
   ]
  },
  {
   "cell_type": "markdown",
   "id": "7d676207-9e3d-4f2b-a67d-fafbe730d6c9",
   "metadata": {},
   "source": [
    "## Find Max\n",
    "\n",
    "```c\n",
    "int find_max(int arr[], int len){\n",
    "    int maximum = -99999;\n",
    "    for(int i=0; i<len; ++i){\n",
    "        maximum = max(arr[i], maximum);\n",
    "    }\n",
    "    return maximum;\n",
    "}\n",
    "```\n",
    "\n",
    "* Do we need `len` parameter?\n",
    "* Hint: `enumerate`"
   ]
  },
  {
   "cell_type": "code",
   "execution_count": 1,
   "id": "08072f69-0666-4cd3-ac50-7730dc8c019a",
   "metadata": {},
   "outputs": [],
   "source": [
    "arr = [7, 9, 1, 3, 5, 2, 8, 10, 0, 6, 4]\n",
    "\n",
    "def find_max(a):\n",
    "    '''Your Code Here'''"
   ]
  },
  {
   "cell_type": "markdown",
   "id": "eb822952-f31b-41c7-91e8-fc6257a0e0f4",
   "metadata": {},
   "source": [
    "## [Fibonacci Sequence](https://zh.wikipedia.org/zh-tw/%E6%96%90%E6%B3%A2%E9%82%A3%E5%A5%91%E6%95%B0%E5%88%97)\n",
    "\n",
    "```c\n",
    "\n",
    "int fib(n){\n",
    "    if(n <= 0) return 0;\n",
    "    if(n == 1) return 1;\n",
    "    return fib(n-1) + fib(n-2);\n",
    "}\n",
    "\n",
    "```\n",
    "\n",
    "* How about iterative version?"
   ]
  },
  {
   "cell_type": "code",
   "execution_count": 2,
   "id": "fda5423c-fe4a-47cb-ae44-b2f8e985ffdb",
   "metadata": {},
   "outputs": [],
   "source": [
    "def fib(n):\n",
    "    '''Your Code Here'''"
   ]
  },
  {
   "cell_type": "markdown",
   "id": "eb13a9f0-2d9a-4089-abde-87cc6e921390",
   "metadata": {},
   "source": [
    "## [Bubble Sort](https://zh.wikipedia.org/wiki/%E5%86%92%E6%B3%A1%E6%8E%92%E5%BA%8F)\n",
    "\n",
    "```c\n",
    "void bubbleSort (int arr[], int len){\n",
    "\tint i, j,temp;\n",
    "\tBoolean exchanged = true;\n",
    "\t\n",
    "\tfor (i=0; exchanged && i<len-1; i++){\n",
    "        exchanged = false;\n",
    "\t\tfor (j=0; j<len-1-i; j++){\n",
    "\t\t\tif (arr[j] > arr[j+1]){\n",
    "\t\t\t\ttemp = arr[j];\n",
    "\t\t\t\tarr[j] = arr[j+1];\n",
    "\t\t\t\tarr[j+1] = temp;\n",
    "\t\t\t\texchanged = true;\n",
    "\t\t\t}\n",
    "       }\n",
    "    }\n",
    "}\n",
    "```\n",
    "\n",
    "* Do we need `temp` for swapping in python?"
   ]
  },
  {
   "cell_type": "code",
   "execution_count": 7,
   "id": "5f54a7d4-96db-490c-92eb-e8a372ad5c1e",
   "metadata": {},
   "outputs": [
    {
     "ename": "IndentationError",
     "evalue": "unexpected indent (<ipython-input-7-01d636f33b46>, line 8)",
     "output_type": "error",
     "traceback": [
      "\u001b[0;36m  File \u001b[0;32m\"<ipython-input-7-01d636f33b46>\"\u001b[0;36m, line \u001b[0;32m8\u001b[0m\n\u001b[0;31m    print(a)\u001b[0m\n\u001b[0m    ^\u001b[0m\n\u001b[0;31mIndentationError\u001b[0m\u001b[0;31m:\u001b[0m unexpected indent\n"
     ]
    }
   ],
   "source": [
    "arr = [7, 9, 1, 3, 5, 2, 8, 10, 0, 6, 4]\n",
    "\n",
    "def bubble_sort(a):\n",
    "    '''Your Code Here'''\n",
    "    \n",
    "    print(a)\n",
    "bubble_sort(arr)"
   ]
  },
  {
   "cell_type": "markdown",
   "id": "fe5b8b9d-636f-42eb-b47d-b7068eec22a4",
   "metadata": {},
   "source": [
    "## [Quick Sort](https://zh.wikipedia.org/wiki/%E5%BF%AB%E9%80%9F%E6%8E%92%E5%BA%8F)\n",
    "\n",
    "```c\n",
    "int partition(int number[], int left, int right) { \n",
    "    int i = left - 1; \n",
    "    int j;\n",
    "    for(j = left; j < right; j++) { \n",
    "        if(number[j] <= number[right]) { \n",
    "            i++; \n",
    "            SWAP(number[i], number[j]); \n",
    "        } \n",
    "    } \n",
    "\n",
    "    SWAP(number[i+1], number[right]); \n",
    "    return i+1; \n",
    "} \n",
    "\n",
    "void quickSort(int number[], int left, int right) { \n",
    "    if(left < right) { \n",
    "        int q = partition(number, left, right); \n",
    "        quickSort(number, left, q-1); \n",
    "        quickSort(number, q+1, right); \n",
    "    } \n",
    "} \n",
    "```"
   ]
  },
  {
   "cell_type": "code",
   "execution_count": 4,
   "id": "b9550837-aa3d-4235-8930-ab357720a1ed",
   "metadata": {},
   "outputs": [
    {
     "data": {
      "text/plain": [
       "'Your Code Here'"
      ]
     },
     "execution_count": 4,
     "metadata": {},
     "output_type": "execute_result"
    }
   ],
   "source": [
    "'''Your Code Here'''"
   ]
  },
  {
   "cell_type": "markdown",
   "id": "40f2488d-57a8-48dc-aced-f5f72d72678a",
   "metadata": {},
   "source": [
    "## Optional - [Tree Inorder-Traversal](http://alrightchiu.github.io/SecondRound/binary-tree-traversalxun-fang.html#in)\n",
    "\n",
    "```c\n",
    "void BinaryTree::Inorder(TreeNode *current){\n",
    "    if (current) {                          // if current != NULL\n",
    "        Inorder(current->leftchild);        // L\n",
    "        std::cout << current->str << \" \";   // V\n",
    "        Inorder(current->rightchild);       // R\n",
    "    }\n",
    "}\n",
    "```\n",
    "\n",
    "* Hint: we could also use `if v: ` to check if `v` is `None`\n",
    "\n",
    "<img src=\"https://upload.wikimedia.org/wikipedia/commons/thumb/d/da/Binary_search_tree.svg/1920px-Binary_search_tree.svg.png\" width=50%>"
   ]
  },
  {
   "cell_type": "code",
   "execution_count": 5,
   "id": "033f169f-be10-4ddc-82f5-088d482e0bc1",
   "metadata": {},
   "outputs": [],
   "source": [
    "class Node:\n",
    "    def __init__(self, value, left=None, right=None):\n",
    "        self.value = value\n",
    "        self.left = left\n",
    "        self.right = right\n",
    "        \n",
    "class Tree:\n",
    "    def __init__(self, root=None):\n",
    "        self.root = root\n",
    "        \n",
    "    def inorder(self, current):\n",
    "        '''Your Code Here'''\n",
    "\n",
    "# build the tree above\n",
    "tree = Tree(Node(8, Node(3, left=Node(1), right=Node(6, Node(4), Node(7))), Node(10, None, Node(14, Node(13), None))))\n",
    "\n",
    "tree.inorder(tree.root)"
   ]
  }
 ],
 "metadata": {
  "kernelspec": {
   "display_name": "Python 3.6.9 64-bit ('ekg': pipenv)",
   "language": "python",
   "name": "python36964bitekgpipenv4ad92e54a9f841469ed6722b46eb33a6"
  },
  "language_info": {
   "codemirror_mode": {
    "name": "ipython",
    "version": 3
   },
   "file_extension": ".py",
   "mimetype": "text/x-python",
   "name": "python",
   "nbconvert_exporter": "python",
   "pygments_lexer": "ipython3",
   "version": "3.6.9"
  }
 },
 "nbformat": 4,
 "nbformat_minor": 5
}
